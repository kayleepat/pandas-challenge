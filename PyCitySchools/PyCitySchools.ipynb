{
 "cells": [
  {
   "cell_type": "markdown",
   "id": "07d59952",
   "metadata": {},
   "source": [
    "# PyCitySchools Analysis\n",
    "- Analysis goes here\n",
    "- Second Point\n",
    "---"
   ]
  },
  {
   "cell_type": "code",
   "execution_count": 15,
   "id": "1a0f4cfe",
   "metadata": {},
   "outputs": [
    {
     "data": {
      "text/html": [
       "<div>\n",
       "<style scoped>\n",
       "    .dataframe tbody tr th:only-of-type {\n",
       "        vertical-align: middle;\n",
       "    }\n",
       "\n",
       "    .dataframe tbody tr th {\n",
       "        vertical-align: top;\n",
       "    }\n",
       "\n",
       "    .dataframe thead th {\n",
       "        text-align: right;\n",
       "    }\n",
       "</style>\n",
       "<table border=\"1\" class=\"dataframe\">\n",
       "  <thead>\n",
       "    <tr style=\"text-align: right;\">\n",
       "      <th></th>\n",
       "      <th>Student ID</th>\n",
       "      <th>student_name</th>\n",
       "      <th>gender</th>\n",
       "      <th>grade</th>\n",
       "      <th>school_name</th>\n",
       "      <th>reading_score</th>\n",
       "      <th>math_score</th>\n",
       "      <th>School ID</th>\n",
       "      <th>type</th>\n",
       "      <th>size</th>\n",
       "      <th>budget</th>\n",
       "    </tr>\n",
       "  </thead>\n",
       "  <tbody>\n",
       "    <tr>\n",
       "      <th>0</th>\n",
       "      <td>0</td>\n",
       "      <td>Paul Bradley</td>\n",
       "      <td>M</td>\n",
       "      <td>9th</td>\n",
       "      <td>Huang High School</td>\n",
       "      <td>66</td>\n",
       "      <td>79</td>\n",
       "      <td>0</td>\n",
       "      <td>District</td>\n",
       "      <td>2917</td>\n",
       "      <td>1910635</td>\n",
       "    </tr>\n",
       "    <tr>\n",
       "      <th>1</th>\n",
       "      <td>1</td>\n",
       "      <td>Victor Smith</td>\n",
       "      <td>M</td>\n",
       "      <td>12th</td>\n",
       "      <td>Huang High School</td>\n",
       "      <td>94</td>\n",
       "      <td>61</td>\n",
       "      <td>0</td>\n",
       "      <td>District</td>\n",
       "      <td>2917</td>\n",
       "      <td>1910635</td>\n",
       "    </tr>\n",
       "    <tr>\n",
       "      <th>2</th>\n",
       "      <td>2</td>\n",
       "      <td>Kevin Rodriguez</td>\n",
       "      <td>M</td>\n",
       "      <td>12th</td>\n",
       "      <td>Huang High School</td>\n",
       "      <td>90</td>\n",
       "      <td>60</td>\n",
       "      <td>0</td>\n",
       "      <td>District</td>\n",
       "      <td>2917</td>\n",
       "      <td>1910635</td>\n",
       "    </tr>\n",
       "    <tr>\n",
       "      <th>3</th>\n",
       "      <td>3</td>\n",
       "      <td>Dr. Richard Scott</td>\n",
       "      <td>M</td>\n",
       "      <td>12th</td>\n",
       "      <td>Huang High School</td>\n",
       "      <td>67</td>\n",
       "      <td>58</td>\n",
       "      <td>0</td>\n",
       "      <td>District</td>\n",
       "      <td>2917</td>\n",
       "      <td>1910635</td>\n",
       "    </tr>\n",
       "    <tr>\n",
       "      <th>4</th>\n",
       "      <td>4</td>\n",
       "      <td>Bonnie Ray</td>\n",
       "      <td>F</td>\n",
       "      <td>9th</td>\n",
       "      <td>Huang High School</td>\n",
       "      <td>97</td>\n",
       "      <td>84</td>\n",
       "      <td>0</td>\n",
       "      <td>District</td>\n",
       "      <td>2917</td>\n",
       "      <td>1910635</td>\n",
       "    </tr>\n",
       "  </tbody>\n",
       "</table>\n",
       "</div>"
      ],
      "text/plain": [
       "   Student ID       student_name gender grade        school_name  \\\n",
       "0           0       Paul Bradley      M   9th  Huang High School   \n",
       "1           1       Victor Smith      M  12th  Huang High School   \n",
       "2           2    Kevin Rodriguez      M  12th  Huang High School   \n",
       "3           3  Dr. Richard Scott      M  12th  Huang High School   \n",
       "4           4         Bonnie Ray      F   9th  Huang High School   \n",
       "\n",
       "   reading_score  math_score  School ID      type  size   budget  \n",
       "0             66          79          0  District  2917  1910635  \n",
       "1             94          61          0  District  2917  1910635  \n",
       "2             90          60          0  District  2917  1910635  \n",
       "3             67          58          0  District  2917  1910635  \n",
       "4             97          84          0  District  2917  1910635  "
      ]
     },
     "execution_count": 15,
     "metadata": {},
     "output_type": "execute_result"
    }
   ],
   "source": [
    "#import dependencies\n",
    "import pandas as pd\n",
    "from pathlib import Path\n",
    "\n",
    "#load files\n",
    "loadSchoolData = Path(\"../Resources/schools_complete.csv\")\n",
    "loadStudentData = Path(\"../Resources/students_complete.csv\")\n",
    "\n",
    "#read files and store as pandas dataframes\n",
    "schoolData = pd.read_csv(loadSchoolData)\n",
    "studentData = pd.read_csv(loadStudentData)\n",
    "\n",
    "#merge data\n",
    "testDatadf = pd.merge(studentData, schoolData, how=\"left\", on=[\"school_name\", \"school_name\"])\n",
    "testDatadf.head()"
   ]
  },
  {
   "cell_type": "markdown",
   "id": "ef46f30f",
   "metadata": {},
   "source": [
    "# District Summary\n",
    "---"
   ]
  },
  {
   "cell_type": "code",
   "execution_count": 16,
   "id": "1b8042d0",
   "metadata": {},
   "outputs": [
    {
     "data": {
      "text/plain": [
       "15"
      ]
     },
     "execution_count": 16,
     "metadata": {},
     "output_type": "execute_result"
    }
   ],
   "source": [
    "#calculate the total number of unique schools\n",
    "schoolCount = len(pd.unique(testDatadf[\"school_name\"]))\n",
    "schoolCount"
   ]
  },
  {
   "cell_type": "code",
   "execution_count": 17,
   "id": "e37915db",
   "metadata": {},
   "outputs": [
    {
     "data": {
      "text/plain": [
       "39170"
      ]
     },
     "execution_count": 17,
     "metadata": {},
     "output_type": "execute_result"
    }
   ],
   "source": [
    "#calculate the total number of students by ID\n",
    "#using ID because some students have the same name\n",
    "studentCount = len(pd.unique(testDatadf[\"Student ID\"]))\n",
    "studentCount"
   ]
  },
  {
   "cell_type": "code",
   "execution_count": 18,
   "id": "2c26b3cf",
   "metadata": {},
   "outputs": [
    {
     "data": {
      "text/plain": [
       "24649428"
      ]
     },
     "execution_count": 18,
     "metadata": {},
     "output_type": "execute_result"
    }
   ],
   "source": [
    "#calculate the total budget\n",
    "totalBudget = schoolData[\"budget\"].sum()\n",
    "totalBudget"
   ]
  },
  {
   "cell_type": "code",
   "execution_count": 19,
   "id": "00831835",
   "metadata": {},
   "outputs": [
    {
     "data": {
      "text/plain": [
       "78.98537145774827"
      ]
     },
     "execution_count": 19,
     "metadata": {},
     "output_type": "execute_result"
    }
   ],
   "source": [
    "#calculate the average (mean) math score\n",
    "avgMathScore = testDatadf[\"math_score\"].mean()\n",
    "avgMathScore"
   ]
  },
  {
   "cell_type": "code",
   "execution_count": 20,
   "id": "5e97b0b8",
   "metadata": {},
   "outputs": [
    {
     "data": {
      "text/plain": [
       "81.87784018381414"
      ]
     },
     "execution_count": 20,
     "metadata": {},
     "output_type": "execute_result"
    }
   ],
   "source": [
    "#calculate the average (mean) reading score\n",
    "avgReadScore = testDatadf[\"reading_score\"].mean()\n",
    "avgReadScore"
   ]
  },
  {
   "cell_type": "code",
   "execution_count": 21,
   "id": "ef9ce407",
   "metadata": {},
   "outputs": [
    {
     "data": {
      "text/plain": [
       "74.9808526933878"
      ]
     },
     "execution_count": 21,
     "metadata": {},
     "output_type": "execute_result"
    }
   ],
   "source": [
    "#calculate the percentage of students who passed math \n",
    "#(math scores greather than or equal to 70)\n",
    "passMathCount = testDatadf[(testDatadf[\"math_score\"] >= 70)].count()[\"Student ID\"]\n",
    "passMathPercent = passMathCount/float(studentCount) * 100\n",
    "passMathPercent"
   ]
  },
  {
   "cell_type": "code",
   "execution_count": 22,
   "id": "bade087c",
   "metadata": {},
   "outputs": [
    {
     "data": {
      "text/plain": [
       "85.80546336482001"
      ]
     },
     "execution_count": 22,
     "metadata": {},
     "output_type": "execute_result"
    }
   ],
   "source": [
    "#calculate the percentage of students who passed reading \n",
    "#(reading scores greather than or equal to 70)\n",
    "passReadCount = testDatadf[(testDatadf[\"reading_score\"] >= 70)].count()[\"Student ID\"]\n",
    "passReadPercent = passReadCount/float(studentCount) * 100\n",
    "passReadPercent"
   ]
  },
  {
   "cell_type": "code",
   "execution_count": 23,
   "id": "be40b690",
   "metadata": {},
   "outputs": [
    {
     "data": {
      "text/plain": [
       "65.17232575950983"
      ]
     },
     "execution_count": 23,
     "metadata": {},
     "output_type": "execute_result"
    }
   ],
   "source": [
    "#calculate the percentage of students who passed both\n",
    "passTestsCount = testDatadf[(testDatadf[\"math_score\"] >= 70) & (testDatadf[\"reading_score\"] >= 70)].count()[\"Student ID\"]\n",
    "passTestsPercent = passTestsCount/float(studentCount) * 100\n",
    "passTestsPercent"
   ]
  },
  {
   "cell_type": "code",
   "execution_count": 24,
   "id": "f5abd35c",
   "metadata": {},
   "outputs": [
    {
     "data": {
      "text/html": [
       "<div>\n",
       "<style scoped>\n",
       "    .dataframe tbody tr th:only-of-type {\n",
       "        vertical-align: middle;\n",
       "    }\n",
       "\n",
       "    .dataframe tbody tr th {\n",
       "        vertical-align: top;\n",
       "    }\n",
       "\n",
       "    .dataframe thead th {\n",
       "        text-align: right;\n",
       "    }\n",
       "</style>\n",
       "<table border=\"1\" class=\"dataframe\">\n",
       "  <thead>\n",
       "    <tr style=\"text-align: right;\">\n",
       "      <th></th>\n",
       "      <th>Total Number of Unique Schools</th>\n",
       "      <th>Total Students</th>\n",
       "      <th>Total Budget</th>\n",
       "      <th>Average Math Score</th>\n",
       "      <th>Average Reading Score</th>\n",
       "      <th>% Passing Math</th>\n",
       "      <th>% Passing Reading</th>\n",
       "      <th>% Overall Passing</th>\n",
       "    </tr>\n",
       "  </thead>\n",
       "  <tbody>\n",
       "    <tr>\n",
       "      <th>0</th>\n",
       "      <td>15</td>\n",
       "      <td>39,170</td>\n",
       "      <td>$24,649,428.00</td>\n",
       "      <td>78.99</td>\n",
       "      <td>81.88</td>\n",
       "      <td>74.98%</td>\n",
       "      <td>85.81%</td>\n",
       "      <td>65.17%</td>\n",
       "    </tr>\n",
       "  </tbody>\n",
       "</table>\n",
       "</div>"
      ],
      "text/plain": [
       "   Total Number of Unique Schools Total Students    Total Budget  \\\n",
       "0                              15         39,170  $24,649,428.00   \n",
       "\n",
       "  Average Math Score Average Reading Score % Passing Math % Passing Reading  \\\n",
       "0              78.99                 81.88         74.98%            85.81%   \n",
       "\n",
       "  % Overall Passing  \n",
       "0            65.17%  "
      ]
     },
     "execution_count": 24,
     "metadata": {},
     "output_type": "execute_result"
    }
   ],
   "source": [
    "#create a high level snapshot of the districts key metrics in a data frame\n",
    "\n",
    "districtSummary = pd.DataFrame({\"Total Number of Unique Schools\": [schoolCount], \n",
    "                                \"Total Students\": [studentCount],\n",
    "                                \"Total Budget\": [totalBudget],\n",
    "                                \"Average Math Score\": [avgMathScore],\n",
    "                                \"Average Reading Score\": [avgReadScore],\n",
    "                                \"% Passing Math\": [passMathPercent],\n",
    "                                \"% Passing Reading\": [passReadPercent],\n",
    "                                \"% Overall Passing\": [passTestsPercent]})\n",
    "\n",
    "#format district summary\n",
    "districtSummary[\"Total Students\"] = districtSummary[\"Total Students\"].map(\"{:,}\".format)\n",
    "districtSummary[\"Total Budget\"] = districtSummary[\"Total Budget\"].map(\"${:,.2f}\".format)\n",
    "districtSummary[\"Average Math Score\"] = districtSummary[\"Average Math Score\"].map(\"{:,.2f}\".format)\n",
    "districtSummary[\"Average Reading Score\"] = districtSummary[\"Average Reading Score\"].map(\"{:,.2f}\".format)\n",
    "districtSummary[\"% Passing Math\"] = districtSummary[\"% Passing Math\"].map(\"{:,.2f}%\".format)\n",
    "districtSummary[\"% Passing Reading\"] = districtSummary[\"% Passing Reading\"].map(\"{:,.2f}%\".format)\n",
    "districtSummary[\"% Overall Passing\"] = districtSummary[\"% Overall Passing\"].map(\"{:,.2f}%\".format)\n",
    "\n",
    "\n",
    "districtSummary"
   ]
  },
  {
   "cell_type": "code",
   "execution_count": null,
   "id": "f5d3e500",
   "metadata": {},
   "outputs": [],
   "source": []
  }
 ],
 "metadata": {
  "kernelspec": {
   "display_name": "Python 3 (ipykernel)",
   "language": "python",
   "name": "python3"
  },
  "language_info": {
   "codemirror_mode": {
    "name": "ipython",
    "version": 3
   },
   "file_extension": ".py",
   "mimetype": "text/x-python",
   "name": "python",
   "nbconvert_exporter": "python",
   "pygments_lexer": "ipython3",
   "version": "3.10.11"
  }
 },
 "nbformat": 4,
 "nbformat_minor": 5
}
