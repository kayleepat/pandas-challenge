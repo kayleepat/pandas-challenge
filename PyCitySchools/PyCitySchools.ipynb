{
 "cells": [
  {
   "cell_type": "markdown",
   "id": "07d59952",
   "metadata": {},
   "source": [
    "# PyCitySchools Analysis\n",
    "- Analysis goes here\n",
    "- Second Point\n",
    "---"
   ]
  },
  {
   "cell_type": "code",
   "execution_count": 1,
   "id": "1a0f4cfe",
   "metadata": {},
   "outputs": [
    {
     "data": {
      "text/html": [
       "<div>\n",
       "<style scoped>\n",
       "    .dataframe tbody tr th:only-of-type {\n",
       "        vertical-align: middle;\n",
       "    }\n",
       "\n",
       "    .dataframe tbody tr th {\n",
       "        vertical-align: top;\n",
       "    }\n",
       "\n",
       "    .dataframe thead th {\n",
       "        text-align: right;\n",
       "    }\n",
       "</style>\n",
       "<table border=\"1\" class=\"dataframe\">\n",
       "  <thead>\n",
       "    <tr style=\"text-align: right;\">\n",
       "      <th></th>\n",
       "      <th>Student ID</th>\n",
       "      <th>student_name</th>\n",
       "      <th>gender</th>\n",
       "      <th>grade</th>\n",
       "      <th>school_name</th>\n",
       "      <th>reading_score</th>\n",
       "      <th>math_score</th>\n",
       "      <th>School ID</th>\n",
       "      <th>type</th>\n",
       "      <th>size</th>\n",
       "      <th>budget</th>\n",
       "    </tr>\n",
       "  </thead>\n",
       "  <tbody>\n",
       "    <tr>\n",
       "      <th>0</th>\n",
       "      <td>0</td>\n",
       "      <td>Paul Bradley</td>\n",
       "      <td>M</td>\n",
       "      <td>9th</td>\n",
       "      <td>Huang High School</td>\n",
       "      <td>66</td>\n",
       "      <td>79</td>\n",
       "      <td>0</td>\n",
       "      <td>District</td>\n",
       "      <td>2917</td>\n",
       "      <td>1910635</td>\n",
       "    </tr>\n",
       "    <tr>\n",
       "      <th>1</th>\n",
       "      <td>1</td>\n",
       "      <td>Victor Smith</td>\n",
       "      <td>M</td>\n",
       "      <td>12th</td>\n",
       "      <td>Huang High School</td>\n",
       "      <td>94</td>\n",
       "      <td>61</td>\n",
       "      <td>0</td>\n",
       "      <td>District</td>\n",
       "      <td>2917</td>\n",
       "      <td>1910635</td>\n",
       "    </tr>\n",
       "    <tr>\n",
       "      <th>2</th>\n",
       "      <td>2</td>\n",
       "      <td>Kevin Rodriguez</td>\n",
       "      <td>M</td>\n",
       "      <td>12th</td>\n",
       "      <td>Huang High School</td>\n",
       "      <td>90</td>\n",
       "      <td>60</td>\n",
       "      <td>0</td>\n",
       "      <td>District</td>\n",
       "      <td>2917</td>\n",
       "      <td>1910635</td>\n",
       "    </tr>\n",
       "    <tr>\n",
       "      <th>3</th>\n",
       "      <td>3</td>\n",
       "      <td>Dr. Richard Scott</td>\n",
       "      <td>M</td>\n",
       "      <td>12th</td>\n",
       "      <td>Huang High School</td>\n",
       "      <td>67</td>\n",
       "      <td>58</td>\n",
       "      <td>0</td>\n",
       "      <td>District</td>\n",
       "      <td>2917</td>\n",
       "      <td>1910635</td>\n",
       "    </tr>\n",
       "    <tr>\n",
       "      <th>4</th>\n",
       "      <td>4</td>\n",
       "      <td>Bonnie Ray</td>\n",
       "      <td>F</td>\n",
       "      <td>9th</td>\n",
       "      <td>Huang High School</td>\n",
       "      <td>97</td>\n",
       "      <td>84</td>\n",
       "      <td>0</td>\n",
       "      <td>District</td>\n",
       "      <td>2917</td>\n",
       "      <td>1910635</td>\n",
       "    </tr>\n",
       "  </tbody>\n",
       "</table>\n",
       "</div>"
      ],
      "text/plain": [
       "   Student ID       student_name gender grade        school_name  \\\n",
       "0           0       Paul Bradley      M   9th  Huang High School   \n",
       "1           1       Victor Smith      M  12th  Huang High School   \n",
       "2           2    Kevin Rodriguez      M  12th  Huang High School   \n",
       "3           3  Dr. Richard Scott      M  12th  Huang High School   \n",
       "4           4         Bonnie Ray      F   9th  Huang High School   \n",
       "\n",
       "   reading_score  math_score  School ID      type  size   budget  \n",
       "0             66          79          0  District  2917  1910635  \n",
       "1             94          61          0  District  2917  1910635  \n",
       "2             90          60          0  District  2917  1910635  \n",
       "3             67          58          0  District  2917  1910635  \n",
       "4             97          84          0  District  2917  1910635  "
      ]
     },
     "execution_count": 1,
     "metadata": {},
     "output_type": "execute_result"
    }
   ],
   "source": [
    "#import dependencies\n",
    "import pandas as pd\n",
    "from pathlib import Path\n",
    "\n",
    "#load files\n",
    "load_school_data = Path(\"../Resources/schools_complete.csv\")\n",
    "load_student_data = Path(\"../Resources/students_complete.csv\")\n",
    "\n",
    "#read files and store as pandas dataframes\n",
    "school_data = pd.read_csv(load_school_data)\n",
    "student_data = pd.read_csv(load_student_data)\n",
    "\n",
    "#merge data\n",
    "df = pd.merge(student_data, school_data, how=\"left\", on=[\"school_name\", \"school_name\"])\n",
    "df.head()"
   ]
  },
  {
   "cell_type": "markdown",
   "id": "ef46f30f",
   "metadata": {},
   "source": [
    "# District Summary\n",
    "---"
   ]
  },
  {
   "cell_type": "code",
   "execution_count": 2,
   "id": "1b8042d0",
   "metadata": {},
   "outputs": [
    {
     "data": {
      "text/plain": [
       "15"
      ]
     },
     "execution_count": 2,
     "metadata": {},
     "output_type": "execute_result"
    }
   ],
   "source": [
    "#calculate the total number of unique schools\n",
    "school_count = len(pd.unique(df[\"school_name\"]))\n",
    "school_count"
   ]
  },
  {
   "cell_type": "code",
   "execution_count": 3,
   "id": "e37915db",
   "metadata": {},
   "outputs": [
    {
     "data": {
      "text/plain": [
       "39170"
      ]
     },
     "execution_count": 3,
     "metadata": {},
     "output_type": "execute_result"
    }
   ],
   "source": [
    "#calculate the total number of students by ID\n",
    "#using ID because some students have the same name\n",
    "student_count = len(pd.unique(df[\"Student ID\"]))\n",
    "student_count"
   ]
  },
  {
   "cell_type": "code",
   "execution_count": 4,
   "id": "2c26b3cf",
   "metadata": {},
   "outputs": [
    {
     "data": {
      "text/plain": [
       "24649428"
      ]
     },
     "execution_count": 4,
     "metadata": {},
     "output_type": "execute_result"
    }
   ],
   "source": [
    "#calculate the total budget\n",
    "total_budget = school_data[\"budget\"].sum()\n",
    "total_budget"
   ]
  },
  {
   "cell_type": "code",
   "execution_count": 5,
   "id": "00831835",
   "metadata": {},
   "outputs": [
    {
     "data": {
      "text/plain": [
       "78.98537145774827"
      ]
     },
     "execution_count": 5,
     "metadata": {},
     "output_type": "execute_result"
    }
   ],
   "source": [
    "#calculate the average (mean) math score\n",
    "avg_math_score = df[\"math_score\"].mean()\n",
    "avg_math_score"
   ]
  },
  {
   "cell_type": "code",
   "execution_count": 6,
   "id": "5e97b0b8",
   "metadata": {},
   "outputs": [
    {
     "data": {
      "text/plain": [
       "81.87784018381414"
      ]
     },
     "execution_count": 6,
     "metadata": {},
     "output_type": "execute_result"
    }
   ],
   "source": [
    "#calculate the average (mean) reading score\n",
    "avg_read_score = df[\"reading_score\"].mean()\n",
    "avg_read_score"
   ]
  },
  {
   "cell_type": "code",
   "execution_count": 7,
   "id": "ef9ce407",
   "metadata": {},
   "outputs": [
    {
     "data": {
      "text/plain": [
       "74.9808526933878"
      ]
     },
     "execution_count": 7,
     "metadata": {},
     "output_type": "execute_result"
    }
   ],
   "source": [
    "#calculate the percentage of students who passed math \n",
    "#(math scores greather than or equal to 70)\n",
    "pass_math_count = df[(df[\"math_score\"] >= 70)].count()[\"Student ID\"]\n",
    "pass_math_percent = pass_math_count/float(student_count) * 100\n",
    "pass_math_percent"
   ]
  },
  {
   "cell_type": "code",
   "execution_count": 8,
   "id": "bade087c",
   "metadata": {},
   "outputs": [
    {
     "data": {
      "text/plain": [
       "85.80546336482001"
      ]
     },
     "execution_count": 8,
     "metadata": {},
     "output_type": "execute_result"
    }
   ],
   "source": [
    "#calculate the percentage of students who passed reading \n",
    "#(reading scores greather than or equal to 70)\n",
    "pass_read_count = df[(df[\"reading_score\"] >= 70)].count()[\"Student ID\"]\n",
    "pass_read_percent = pass_read_count/float(student_count) * 100\n",
    "pass_read_percent"
   ]
  },
  {
   "cell_type": "code",
   "execution_count": 9,
   "id": "be40b690",
   "metadata": {},
   "outputs": [
    {
     "data": {
      "text/plain": [
       "65.17232575950983"
      ]
     },
     "execution_count": 9,
     "metadata": {},
     "output_type": "execute_result"
    }
   ],
   "source": [
    "#calculate the percentage of students who passed both\n",
    "pass_tests_count = df[(df[\"math_score\"] >= 70) & (df[\"reading_score\"] >= 70)].count()[\"Student ID\"]\n",
    "pass_tests_percent = pass_tests_count/float(student_count) * 100\n",
    "pass_tests_percent"
   ]
  },
  {
   "cell_type": "code",
   "execution_count": 10,
   "id": "f5abd35c",
   "metadata": {},
   "outputs": [
    {
     "data": {
      "text/html": [
       "<div>\n",
       "<style scoped>\n",
       "    .dataframe tbody tr th:only-of-type {\n",
       "        vertical-align: middle;\n",
       "    }\n",
       "\n",
       "    .dataframe tbody tr th {\n",
       "        vertical-align: top;\n",
       "    }\n",
       "\n",
       "    .dataframe thead th {\n",
       "        text-align: right;\n",
       "    }\n",
       "</style>\n",
       "<table border=\"1\" class=\"dataframe\">\n",
       "  <thead>\n",
       "    <tr style=\"text-align: right;\">\n",
       "      <th></th>\n",
       "      <th>Total Number of Unique Schools</th>\n",
       "      <th>Total Students</th>\n",
       "      <th>Total Budget</th>\n",
       "      <th>Average Math Score</th>\n",
       "      <th>Average Reading Score</th>\n",
       "      <th>% Passing Math</th>\n",
       "      <th>% Passing Reading</th>\n",
       "      <th>% Overall Passing</th>\n",
       "    </tr>\n",
       "  </thead>\n",
       "  <tbody>\n",
       "    <tr>\n",
       "      <th>0</th>\n",
       "      <td>15</td>\n",
       "      <td>39,170</td>\n",
       "      <td>$24,649,428.00</td>\n",
       "      <td>78.99</td>\n",
       "      <td>81.88</td>\n",
       "      <td>74.98%</td>\n",
       "      <td>85.81%</td>\n",
       "      <td>65.17%</td>\n",
       "    </tr>\n",
       "  </tbody>\n",
       "</table>\n",
       "</div>"
      ],
      "text/plain": [
       "   Total Number of Unique Schools Total Students    Total Budget  \\\n",
       "0                              15         39,170  $24,649,428.00   \n",
       "\n",
       "  Average Math Score Average Reading Score % Passing Math % Passing Reading  \\\n",
       "0              78.99                 81.88         74.98%            85.81%   \n",
       "\n",
       "  % Overall Passing  \n",
       "0            65.17%  "
      ]
     },
     "execution_count": 10,
     "metadata": {},
     "output_type": "execute_result"
    }
   ],
   "source": [
    "#create a high level snapshot of the districts key metrics in a data frame\n",
    "\n",
    "district_summary = pd.DataFrame({\"Total Number of Unique Schools\": [school_count], \n",
    "                                \"Total Students\": [student_count],\n",
    "                                \"Total Budget\": [total_budget],\n",
    "                                \"Average Math Score\": [avg_math_score],\n",
    "                                \"Average Reading Score\": [avg_read_score],\n",
    "                                \"% Passing Math\": [pass_math_percent],\n",
    "                                \"% Passing Reading\": [pass_read_percent],\n",
    "                                \"% Overall Passing\": [pass_tests_percent]})\n",
    "\n",
    "#format district summary\n",
    "district_summary[\"Total Students\"] = district_summary[\"Total Students\"].map(\"{:,}\".format)\n",
    "district_summary[\"Total Budget\"] = district_summary[\"Total Budget\"].map(\"${:,.2f}\".format)\n",
    "district_summary[\"Average Math Score\"] = district_summary[\"Average Math Score\"].map(\"{:,.2f}\".format)\n",
    "district_summary[\"Average Reading Score\"] = district_summary[\"Average Reading Score\"].map(\"{:,.2f}\".format)\n",
    "district_summary[\"% Passing Math\"] = district_summary[\"% Passing Math\"].map(\"{:,.2f}%\".format)\n",
    "district_summary[\"% Passing Reading\"] = district_summary[\"% Passing Reading\"].map(\"{:,.2f}%\".format)\n",
    "district_summary[\"% Overall Passing\"] = district_summary[\"% Overall Passing\"].map(\"{:,.2f}%\".format)\n",
    "\n",
    "\n",
    "district_summary"
   ]
  },
  {
   "cell_type": "markdown",
   "id": "f5d3e500",
   "metadata": {},
   "source": [
    "## School Summary"
   ]
  },
  {
   "cell_type": "code",
   "execution_count": 11,
   "id": "8ea105f4",
   "metadata": {},
   "outputs": [
    {
     "data": {
      "text/plain": [
       "['District', 'Charter']"
      ]
     },
     "execution_count": 11,
     "metadata": {},
     "output_type": "execute_result"
    }
   ],
   "source": [
    "# Use the code provided to select all of the school types\n",
    "school_types = df['type'].unique()\n",
    "\n",
    "[type for type in school_types]"
   ]
  },
  {
   "cell_type": "code",
   "execution_count": 12,
   "id": "595cc2fa",
   "metadata": {},
   "outputs": [
    {
     "name": "stdout",
     "output_type": "stream",
     "text": [
      "Students per School\n",
      "----------------------------------\n",
      "Bailey High School: 4976 students\n",
      "Cabrera High School: 1858 students\n",
      "Figueroa High School: 2949 students\n",
      "Ford High School: 2739 students\n",
      "Griffin High School: 1468 students\n",
      "Hernandez High School: 4635 students\n",
      "Holden High School: 427 students\n",
      "Huang High School: 2917 students\n",
      "Johnson High School: 4761 students\n",
      "Pena High School: 962 students\n",
      "Rodriguez High School: 3999 students\n",
      "Shelton High School: 1761 students\n",
      "Thomas High School: 1635 students\n",
      "Wilson High School: 2283 students\n",
      "Wright High School: 1800 students\n"
     ]
    }
   ],
   "source": [
    "# Calculate the total student count per school\n",
    "per_school_counts = df.groupby('school_name')['Student ID'].count()\n",
    "#per_school_counts\n",
    "\n",
    "print('''Students per School\n",
    "----------------------------------''')\n",
    "for school, students in per_school_counts.items():\n",
    "    print(f'{school}: {students} students')"
   ]
  },
  {
   "cell_type": "code",
   "execution_count": 13,
   "id": "031ee95e",
   "metadata": {},
   "outputs": [
    {
     "name": "stdout",
     "output_type": "stream",
     "text": [
      "Budget per School\n",
      "----------------------------------\n",
      "Bailey High School: $3,124,928.00\n",
      "Cabrera High School: $1,081,356.00\n",
      "Figueroa High School: $1,884,411.00\n",
      "Ford High School: $1,763,916.00\n",
      "Griffin High School: $917,500.00\n",
      "Hernandez High School: $3,022,020.00\n",
      "Holden High School: $248,087.00\n",
      "Huang High School: $1,910,635.00\n",
      "Johnson High School: $3,094,650.00\n",
      "Pena High School: $585,858.00\n",
      "Rodriguez High School: $2,547,363.00\n",
      "Shelton High School: $1,056,600.00\n",
      "Thomas High School: $1,043,130.00\n",
      "Wilson High School: $1,319,574.00\n",
      "Wright High School: $1,049,400.00\n",
      "\n",
      "Budget per Student\n",
      "----------------------------------\n",
      "Bailey High School: $628.00 per student\n",
      "Cabrera High School: $582.00 per student\n",
      "Figueroa High School: $639.00 per student\n",
      "Ford High School: $644.00 per student\n",
      "Griffin High School: $625.00 per student\n",
      "Hernandez High School: $652.00 per student\n",
      "Holden High School: $581.00 per student\n",
      "Huang High School: $655.00 per student\n",
      "Johnson High School: $650.00 per student\n",
      "Pena High School: $609.00 per student\n",
      "Rodriguez High School: $637.00 per student\n",
      "Shelton High School: $600.00 per student\n",
      "Thomas High School: $638.00 per student\n",
      "Wilson High School: $578.00 per student\n",
      "Wright High School: $583.00 per student\n"
     ]
    }
   ],
   "source": [
    "# Calculate the total school budget and per capita spending per school\n",
    "per_school_budget = df.groupby('school_name')['budget'].first()\n",
    "\n",
    "print('''Budget per School\n",
    "----------------------------------''')\n",
    "for school, budget in per_school_budget.items():\n",
    "    print(f'{school}: ${budget:,.2f}')\n",
    "\n",
    "print()\n",
    "\n",
    "# find budget per student\n",
    "per_student_budget = per_school_budget / per_school_counts\n",
    "\n",
    "print('''Budget per Student\n",
    "----------------------------------''')\n",
    "for school, capita in per_student_budget.items():\n",
    "    print(f'{school}: ${capita:,.2f} per student')"
   ]
  },
  {
   "cell_type": "code",
   "execution_count": 14,
   "id": "8856a788",
   "metadata": {},
   "outputs": [
    {
     "name": "stdout",
     "output_type": "stream",
     "text": [
      "Average Math Score per School\n",
      "----------------------------------\n",
      "Bailey High School: 77.05\n",
      "Cabrera High School: 83.06\n",
      "Figueroa High School: 76.71\n",
      "Ford High School: 77.10\n",
      "Griffin High School: 83.35\n",
      "Hernandez High School: 77.29\n",
      "Holden High School: 83.80\n",
      "Huang High School: 76.63\n",
      "Johnson High School: 77.07\n",
      "Pena High School: 83.84\n",
      "Rodriguez High School: 76.84\n",
      "Shelton High School: 83.36\n",
      "Thomas High School: 83.42\n",
      "Wilson High School: 83.27\n",
      "Wright High School: 83.68\n",
      "\n",
      "Average Reading Score per School\n",
      "----------------------------------\n",
      "Bailey High School: 81.03\n",
      "Cabrera High School: 83.98\n",
      "Figueroa High School: 81.16\n",
      "Ford High School: 80.75\n",
      "Griffin High School: 83.82\n",
      "Hernandez High School: 80.93\n",
      "Holden High School: 83.81\n",
      "Huang High School: 81.18\n",
      "Johnson High School: 80.97\n",
      "Pena High School: 84.04\n",
      "Rodriguez High School: 80.74\n",
      "Shelton High School: 83.73\n",
      "Thomas High School: 83.85\n",
      "Wilson High School: 83.99\n",
      "Wright High School: 83.95\n"
     ]
    }
   ],
   "source": [
    "# Calculate the average test scores per school\n",
    "\n",
    "# math\n",
    "per_school_math = df.groupby('school_name')['math_score'].mean()\n",
    "\n",
    "print('''Average Math Score per School\n",
    "----------------------------------''')\n",
    "for school, math in per_school_math.items():\n",
    "    print(f'{school}: {math:.2f}')\n",
    "\n",
    "print()\n",
    "\n",
    "#reading\n",
    "per_school_reading = df.groupby('school_name')['reading_score'].mean()\n",
    "\n",
    "print('''Average Reading Score per School\n",
    "----------------------------------''')\n",
    "for school, reading in per_school_reading.items():\n",
    "    print(f'{school}: {reading:.2f}')"
   ]
  },
  {
   "cell_type": "code",
   "execution_count": 15,
   "id": "889fc0f2",
   "metadata": {},
   "outputs": [
    {
     "data": {
      "text/plain": [
       "school_name\n",
       "Bailey High School       3318\n",
       "Cabrera High School      1749\n",
       "Figueroa High School     1946\n",
       "Ford High School         1871\n",
       "Griffin High School      1371\n",
       "Hernandez High School    3094\n",
       "Holden High School        395\n",
       "Huang High School        1916\n",
       "Johnson High School      3145\n",
       "Pena High School          910\n",
       "Rodriguez High School    2654\n",
       "Shelton High School      1653\n",
       "Thomas High School       1525\n",
       "Wilson High School       2143\n",
       "Wright High School       1680\n",
       "Name: Student ID, dtype: int64"
      ]
     },
     "execution_count": 15,
     "metadata": {},
     "output_type": "execute_result"
    }
   ],
   "source": [
    "# Calculate the number of students per school with math scores of 70 or higher\n",
    "students_passing_math = df[df['math_score'] >= 70].groupby('school_name')['Student ID'].count()\n",
    "\n",
    "students_passing_math"
   ]
  },
  {
   "cell_type": "code",
   "execution_count": 16,
   "id": "eee525b6",
   "metadata": {},
   "outputs": [
    {
     "data": {
      "text/plain": [
       "school_name\n",
       "Bailey High School       4077\n",
       "Cabrera High School      1803\n",
       "Figueroa High School     2381\n",
       "Ford High School         2172\n",
       "Griffin High School      1426\n",
       "Hernandez High School    3748\n",
       "Holden High School        411\n",
       "Huang High School        2372\n",
       "Johnson High School      3867\n",
       "Pena High School          923\n",
       "Rodriguez High School    3208\n",
       "Shelton High School      1688\n",
       "Thomas High School       1591\n",
       "Wilson High School       2204\n",
       "Wright High School       1739\n",
       "Name: Student ID, dtype: int64"
      ]
     },
     "execution_count": 16,
     "metadata": {},
     "output_type": "execute_result"
    }
   ],
   "source": [
    "# Calculate the number of students per school with reading scores of 70 or higher\n",
    "students_passing_reading = df[df['reading_score'] >= 70].groupby('school_name')['Student ID'].count()\n",
    "\n",
    "students_passing_reading"
   ]
  },
  {
   "cell_type": "code",
   "execution_count": 17,
   "id": "1268b34b",
   "metadata": {},
   "outputs": [
    {
     "data": {
      "text/plain": [
       "school_name\n",
       "Bailey High School       2719\n",
       "Cabrera High School      1697\n",
       "Figueroa High School     1569\n",
       "Ford High School         1487\n",
       "Griffin High School      1330\n",
       "Hernandez High School    2481\n",
       "Holden High School        381\n",
       "Huang High School        1561\n",
       "Johnson High School      2549\n",
       "Pena High School          871\n",
       "Rodriguez High School    2119\n",
       "Shelton High School      1583\n",
       "Thomas High School       1487\n",
       "Wilson High School       2068\n",
       "Wright High School       1626\n",
       "Name: Student ID, dtype: int64"
      ]
     },
     "execution_count": 17,
     "metadata": {},
     "output_type": "execute_result"
    }
   ],
   "source": [
    "# Use the provided code to calculate the number of students per school that passed both math and reading with scores of 70 or higher\n",
    "students_passing_math_and_reading = df[(df['math_score'] >= 70) & (df['reading_score'] >= 70)].groupby('school_name')['Student ID'].count()\n",
    "\n",
    "students_passing_math_and_reading"
   ]
  },
  {
   "cell_type": "code",
   "execution_count": 18,
   "id": "483c59b7",
   "metadata": {},
   "outputs": [
    {
     "name": "stdout",
     "output_type": "stream",
     "text": [
      "school_name\n",
      "Bailey High School       54.642283\n",
      "Cabrera High School      91.334769\n",
      "Figueroa High School     53.204476\n",
      "Ford High School         54.289887\n",
      "Griffin High School      90.599455\n",
      "Hernandez High School    53.527508\n",
      "Holden High School       89.227166\n",
      "Huang High School        53.513884\n",
      "Johnson High School      53.539172\n",
      "Pena High School         90.540541\n",
      "Rodriguez High School    52.988247\n",
      "Shelton High School      89.892107\n",
      "Thomas High School       90.948012\n",
      "Wilson High School       90.582567\n",
      "Wright High School       90.333333\n",
      "Name: Student ID, dtype: float64\n"
     ]
    }
   ],
   "source": [
    "# Use the provided code to calculate the passing rates\n",
    "students_passing_math = students_passing_math / per_school_counts * 100\n",
    "students_passing_reading = students_passing_reading / per_school_counts * 100\n",
    "overall_passing_rate = students_passing_math_and_reading / per_school_counts * 100\n",
    "\n",
    "print(overall_passing_rate)"
   ]
  },
  {
   "cell_type": "code",
   "execution_count": 25,
   "id": "d241c94e",
   "metadata": {},
   "outputs": [
    {
     "data": {
      "text/html": [
       "<div>\n",
       "<style scoped>\n",
       "    .dataframe tbody tr th:only-of-type {\n",
       "        vertical-align: middle;\n",
       "    }\n",
       "\n",
       "    .dataframe tbody tr th {\n",
       "        vertical-align: top;\n",
       "    }\n",
       "\n",
       "    .dataframe thead th {\n",
       "        text-align: right;\n",
       "    }\n",
       "</style>\n",
       "<table border=\"1\" class=\"dataframe\">\n",
       "  <thead>\n",
       "    <tr style=\"text-align: right;\">\n",
       "      <th></th>\n",
       "      <th>Total Students</th>\n",
       "      <th>Total School Budget</th>\n",
       "      <th>Per Student Budget</th>\n",
       "      <th>Average Math Score</th>\n",
       "      <th>Average Reading Score</th>\n",
       "      <th>% Passing Math</th>\n",
       "      <th>% Passing Reading</th>\n",
       "      <th>% Overall Passing</th>\n",
       "    </tr>\n",
       "    <tr>\n",
       "      <th>school_name</th>\n",
       "      <th></th>\n",
       "      <th></th>\n",
       "      <th></th>\n",
       "      <th></th>\n",
       "      <th></th>\n",
       "      <th></th>\n",
       "      <th></th>\n",
       "      <th></th>\n",
       "    </tr>\n",
       "  </thead>\n",
       "  <tbody>\n",
       "    <tr>\n",
       "      <th>Bailey High School</th>\n",
       "      <td>4976</td>\n",
       "      <td>$3,124,928.00</td>\n",
       "      <td>$628.00</td>\n",
       "      <td>77.05</td>\n",
       "      <td>81.03</td>\n",
       "      <td>66.68%</td>\n",
       "      <td>81.93%</td>\n",
       "      <td>54.64%</td>\n",
       "    </tr>\n",
       "    <tr>\n",
       "      <th>Cabrera High School</th>\n",
       "      <td>1858</td>\n",
       "      <td>$1,081,356.00</td>\n",
       "      <td>$582.00</td>\n",
       "      <td>83.06</td>\n",
       "      <td>83.98</td>\n",
       "      <td>94.13%</td>\n",
       "      <td>97.04%</td>\n",
       "      <td>91.33%</td>\n",
       "    </tr>\n",
       "    <tr>\n",
       "      <th>Figueroa High School</th>\n",
       "      <td>2949</td>\n",
       "      <td>$1,884,411.00</td>\n",
       "      <td>$639.00</td>\n",
       "      <td>76.71</td>\n",
       "      <td>81.16</td>\n",
       "      <td>65.99%</td>\n",
       "      <td>80.74%</td>\n",
       "      <td>53.20%</td>\n",
       "    </tr>\n",
       "    <tr>\n",
       "      <th>Ford High School</th>\n",
       "      <td>2739</td>\n",
       "      <td>$1,763,916.00</td>\n",
       "      <td>$644.00</td>\n",
       "      <td>77.10</td>\n",
       "      <td>80.75</td>\n",
       "      <td>68.31%</td>\n",
       "      <td>79.30%</td>\n",
       "      <td>54.29%</td>\n",
       "    </tr>\n",
       "    <tr>\n",
       "      <th>Griffin High School</th>\n",
       "      <td>1468</td>\n",
       "      <td>$917,500.00</td>\n",
       "      <td>$625.00</td>\n",
       "      <td>83.35</td>\n",
       "      <td>83.82</td>\n",
       "      <td>93.39%</td>\n",
       "      <td>97.14%</td>\n",
       "      <td>90.60%</td>\n",
       "    </tr>\n",
       "    <tr>\n",
       "      <th>Hernandez High School</th>\n",
       "      <td>4635</td>\n",
       "      <td>$3,022,020.00</td>\n",
       "      <td>$652.00</td>\n",
       "      <td>77.29</td>\n",
       "      <td>80.93</td>\n",
       "      <td>66.75%</td>\n",
       "      <td>80.86%</td>\n",
       "      <td>53.53%</td>\n",
       "    </tr>\n",
       "    <tr>\n",
       "      <th>Holden High School</th>\n",
       "      <td>427</td>\n",
       "      <td>$248,087.00</td>\n",
       "      <td>$581.00</td>\n",
       "      <td>83.80</td>\n",
       "      <td>83.81</td>\n",
       "      <td>92.51%</td>\n",
       "      <td>96.25%</td>\n",
       "      <td>89.23%</td>\n",
       "    </tr>\n",
       "    <tr>\n",
       "      <th>Huang High School</th>\n",
       "      <td>2917</td>\n",
       "      <td>$1,910,635.00</td>\n",
       "      <td>$655.00</td>\n",
       "      <td>76.63</td>\n",
       "      <td>81.18</td>\n",
       "      <td>65.68%</td>\n",
       "      <td>81.32%</td>\n",
       "      <td>53.51%</td>\n",
       "    </tr>\n",
       "    <tr>\n",
       "      <th>Johnson High School</th>\n",
       "      <td>4761</td>\n",
       "      <td>$3,094,650.00</td>\n",
       "      <td>$650.00</td>\n",
       "      <td>77.07</td>\n",
       "      <td>80.97</td>\n",
       "      <td>66.06%</td>\n",
       "      <td>81.22%</td>\n",
       "      <td>53.54%</td>\n",
       "    </tr>\n",
       "    <tr>\n",
       "      <th>Pena High School</th>\n",
       "      <td>962</td>\n",
       "      <td>$585,858.00</td>\n",
       "      <td>$609.00</td>\n",
       "      <td>83.84</td>\n",
       "      <td>84.04</td>\n",
       "      <td>94.59%</td>\n",
       "      <td>95.95%</td>\n",
       "      <td>90.54%</td>\n",
       "    </tr>\n",
       "    <tr>\n",
       "      <th>Rodriguez High School</th>\n",
       "      <td>3999</td>\n",
       "      <td>$2,547,363.00</td>\n",
       "      <td>$637.00</td>\n",
       "      <td>76.84</td>\n",
       "      <td>80.74</td>\n",
       "      <td>66.37%</td>\n",
       "      <td>80.22%</td>\n",
       "      <td>52.99%</td>\n",
       "    </tr>\n",
       "    <tr>\n",
       "      <th>Shelton High School</th>\n",
       "      <td>1761</td>\n",
       "      <td>$1,056,600.00</td>\n",
       "      <td>$600.00</td>\n",
       "      <td>83.36</td>\n",
       "      <td>83.73</td>\n",
       "      <td>93.87%</td>\n",
       "      <td>95.85%</td>\n",
       "      <td>89.89%</td>\n",
       "    </tr>\n",
       "    <tr>\n",
       "      <th>Thomas High School</th>\n",
       "      <td>1635</td>\n",
       "      <td>$1,043,130.00</td>\n",
       "      <td>$638.00</td>\n",
       "      <td>83.42</td>\n",
       "      <td>83.85</td>\n",
       "      <td>93.27%</td>\n",
       "      <td>97.31%</td>\n",
       "      <td>90.95%</td>\n",
       "    </tr>\n",
       "    <tr>\n",
       "      <th>Wilson High School</th>\n",
       "      <td>2283</td>\n",
       "      <td>$1,319,574.00</td>\n",
       "      <td>$578.00</td>\n",
       "      <td>83.27</td>\n",
       "      <td>83.99</td>\n",
       "      <td>93.87%</td>\n",
       "      <td>96.54%</td>\n",
       "      <td>90.58%</td>\n",
       "    </tr>\n",
       "    <tr>\n",
       "      <th>Wright High School</th>\n",
       "      <td>1800</td>\n",
       "      <td>$1,049,400.00</td>\n",
       "      <td>$583.00</td>\n",
       "      <td>83.68</td>\n",
       "      <td>83.95</td>\n",
       "      <td>93.33%</td>\n",
       "      <td>96.61%</td>\n",
       "      <td>90.33%</td>\n",
       "    </tr>\n",
       "  </tbody>\n",
       "</table>\n",
       "</div>"
      ],
      "text/plain": [
       "                       Total Students Total School Budget Per Student Budget  \\\n",
       "school_name                                                                    \n",
       "Bailey High School               4976       $3,124,928.00            $628.00   \n",
       "Cabrera High School              1858       $1,081,356.00            $582.00   \n",
       "Figueroa High School             2949       $1,884,411.00            $639.00   \n",
       "Ford High School                 2739       $1,763,916.00            $644.00   \n",
       "Griffin High School              1468         $917,500.00            $625.00   \n",
       "Hernandez High School            4635       $3,022,020.00            $652.00   \n",
       "Holden High School                427         $248,087.00            $581.00   \n",
       "Huang High School                2917       $1,910,635.00            $655.00   \n",
       "Johnson High School              4761       $3,094,650.00            $650.00   \n",
       "Pena High School                  962         $585,858.00            $609.00   \n",
       "Rodriguez High School            3999       $2,547,363.00            $637.00   \n",
       "Shelton High School              1761       $1,056,600.00            $600.00   \n",
       "Thomas High School               1635       $1,043,130.00            $638.00   \n",
       "Wilson High School               2283       $1,319,574.00            $578.00   \n",
       "Wright High School               1800       $1,049,400.00            $583.00   \n",
       "\n",
       "                      Average Math Score Average Reading Score % Passing Math  \\\n",
       "school_name                                                                     \n",
       "Bailey High School                 77.05                 81.03         66.68%   \n",
       "Cabrera High School                83.06                 83.98         94.13%   \n",
       "Figueroa High School               76.71                 81.16         65.99%   \n",
       "Ford High School                   77.10                 80.75         68.31%   \n",
       "Griffin High School                83.35                 83.82         93.39%   \n",
       "Hernandez High School              77.29                 80.93         66.75%   \n",
       "Holden High School                 83.80                 83.81         92.51%   \n",
       "Huang High School                  76.63                 81.18         65.68%   \n",
       "Johnson High School                77.07                 80.97         66.06%   \n",
       "Pena High School                   83.84                 84.04         94.59%   \n",
       "Rodriguez High School              76.84                 80.74         66.37%   \n",
       "Shelton High School                83.36                 83.73         93.87%   \n",
       "Thomas High School                 83.42                 83.85         93.27%   \n",
       "Wilson High School                 83.27                 83.99         93.87%   \n",
       "Wright High School                 83.68                 83.95         93.33%   \n",
       "\n",
       "                      % Passing Reading % Overall Passing  \n",
       "school_name                                                \n",
       "Bailey High School               81.93%            54.64%  \n",
       "Cabrera High School              97.04%            91.33%  \n",
       "Figueroa High School             80.74%            53.20%  \n",
       "Ford High School                 79.30%            54.29%  \n",
       "Griffin High School              97.14%            90.60%  \n",
       "Hernandez High School            80.86%            53.53%  \n",
       "Holden High School               96.25%            89.23%  \n",
       "Huang High School                81.32%            53.51%  \n",
       "Johnson High School              81.22%            53.54%  \n",
       "Pena High School                 95.95%            90.54%  \n",
       "Rodriguez High School            80.22%            52.99%  \n",
       "Shelton High School              95.85%            89.89%  \n",
       "Thomas High School               97.31%            90.95%  \n",
       "Wilson High School               96.54%            90.58%  \n",
       "Wright High School               96.61%            90.33%  "
      ]
     },
     "execution_count": 25,
     "metadata": {},
     "output_type": "execute_result"
    }
   ],
   "source": [
    "per_school_summary = pd.DataFrame({\n",
    "    'Total Students': per_school_counts,\n",
    "    'Total School Budget': per_school_budget,\n",
    "    'Per Student Budget': per_student_budget,\n",
    "    'Average Math Score': per_school_math,\n",
    "    'Average Reading Score': per_school_reading,\n",
    "    '% Passing Math': students_passing_math,\n",
    "    '% Passing Reading': students_passing_reading,\n",
    "    '% Overall Passing': overall_passing_rate\n",
    "})\n",
    "\n",
    "# formatting\n",
    "per_school_summary[\"Total School Budget\"] = per_school_summary[\"Total School Budget\"].map(\"${:,.2f}\".format)\n",
    "per_school_summary[\"Per Student Budget\"] = per_school_summary[\"Per Student Budget\"].map(\"${:,.2f}\".format)\n",
    "per_school_summary['Average Math Score'] = per_school_summary['Average Math Score'].map(\"{:.2f}\".format)\n",
    "per_school_summary['Average Reading Score'] = per_school_summary['Average Reading Score'].map(\"{:.2f}\".format)\n",
    "per_school_summary['% Passing Math'] = (per_school_summary['% Passing Math']).map(\"{:.2f}%\".format)\n",
    "per_school_summary['% Passing Reading'] = (per_school_summary['% Passing Reading']).map(\"{:.2f}%\".format)\n",
    "per_school_summary['% Overall Passing'] = (per_school_summary['% Overall Passing']).map(\"{:.2f}%\".format)\n",
    "\n",
    "per_school_summary"
   ]
  },
  {
   "cell_type": "code",
   "execution_count": null,
   "id": "1dcbed32",
   "metadata": {},
   "outputs": [],
   "source": []
  }
 ],
 "metadata": {
  "kernelspec": {
   "display_name": "Python 3 (ipykernel)",
   "language": "python",
   "name": "python3"
  },
  "language_info": {
   "codemirror_mode": {
    "name": "ipython",
    "version": 3
   },
   "file_extension": ".py",
   "mimetype": "text/x-python",
   "name": "python",
   "nbconvert_exporter": "python",
   "pygments_lexer": "ipython3",
   "version": "3.10.11"
  }
 },
 "nbformat": 4,
 "nbformat_minor": 5
}
